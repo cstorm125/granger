{
 "cells": [
  {
   "cell_type": "markdown",
   "metadata": {},
   "source": [
    "# Granger Causality with Google Trends - Did `itaewon class` cause `โคชูจัง`?"
   ]
  },
  {
   "cell_type": "markdown",
   "metadata": {},
   "source": [
    "We will give an example of Granger casuality test with interests over time of `itaewon class` and `โคชูจัง` in Thailand during 2020-01 to 2020-04. During the time, gochujang went out of stock in many supermarkets supposedly because people micking the show. We are examining the hypothesis that the interst over time of `itaewon class` Granger causes that of `โคชูจัง`.\n",
    "\n",
    "$x_t$ Granger causes $y_t$ means that the past values of $x_t$ could contain information that is useful in predicting $y_t$."
   ]
  },
  {
   "cell_type": "code",
   "execution_count": 63,
   "metadata": {},
   "outputs": [],
   "source": [
    "import pandas as pd\n",
    "import numpy as np\n",
    "import matplotlib.pyplot as plt\n",
    "import tqdm\n",
    "import warnings\n",
    "warnings.filterwarnings('ignore')\n",
    "import matplotlib\n",
    "matplotlib.rc('font', family='Ayuthaya') # MacOS"
   ]
  },
  {
   "cell_type": "markdown",
   "metadata": {},
   "source": [
    "## 1. Get Trend Objects with Thailand Offset"
   ]
  },
  {
   "cell_type": "markdown",
   "metadata": {},
   "source": [
    "We can get interest over time of a keyword with the unofficial `pytrends` library."
   ]
  },
  {
   "cell_type": "code",
   "execution_count": 64,
   "metadata": {},
   "outputs": [],
   "source": [
    "from pytrends.request import TrendReq\n",
    "\n",
    "#get trend objects with thailand offset 7*60 = 420 minutes\n",
    "trend = TrendReq(hl='th-TH', tz=420)"
   ]
  },
  {
   "cell_type": "code",
   "execution_count": 65,
   "metadata": {},
   "outputs": [
    {
     "data": {
      "text/html": [
       "<div>\n",
       "<style scoped>\n",
       "    .dataframe tbody tr th:only-of-type {\n",
       "        vertical-align: middle;\n",
       "    }\n",
       "\n",
       "    .dataframe tbody tr th {\n",
       "        vertical-align: top;\n",
       "    }\n",
       "\n",
       "    .dataframe thead th {\n",
       "        text-align: right;\n",
       "    }\n",
       "</style>\n",
       "<table border=\"1\" class=\"dataframe\">\n",
       "  <thead>\n",
       "    <tr style=\"text-align: right;\">\n",
       "      <th></th>\n",
       "      <th>โคชูจัง</th>\n",
       "      <th>itaewon class</th>\n",
       "    </tr>\n",
       "    <tr>\n",
       "      <th>date</th>\n",
       "      <th></th>\n",
       "      <th></th>\n",
       "    </tr>\n",
       "  </thead>\n",
       "  <tbody>\n",
       "    <tr>\n",
       "      <th>2020-01-01</th>\n",
       "      <td>2</td>\n",
       "      <td>0</td>\n",
       "    </tr>\n",
       "    <tr>\n",
       "      <th>2020-01-02</th>\n",
       "      <td>1</td>\n",
       "      <td>0</td>\n",
       "    </tr>\n",
       "    <tr>\n",
       "      <th>2020-01-03</th>\n",
       "      <td>1</td>\n",
       "      <td>0</td>\n",
       "    </tr>\n",
       "    <tr>\n",
       "      <th>2020-01-04</th>\n",
       "      <td>1</td>\n",
       "      <td>0</td>\n",
       "    </tr>\n",
       "    <tr>\n",
       "      <th>2020-01-05</th>\n",
       "      <td>1</td>\n",
       "      <td>0</td>\n",
       "    </tr>\n",
       "  </tbody>\n",
       "</table>\n",
       "</div>"
      ],
      "text/plain": [
       "            โคชูจัง  itaewon class\n",
       "date                              \n",
       "2020-01-01        2              0\n",
       "2020-01-02        1              0\n",
       "2020-01-03        1              0\n",
       "2020-01-04        1              0\n",
       "2020-01-05        1              0"
      ]
     },
     "execution_count": 65,
     "metadata": {},
     "output_type": "execute_result"
    }
   ],
   "source": [
    "#compare 2 keywords\n",
    "kw_list = ['โคชูจัง','itaewon class']\n",
    "trend.build_payload(kw_list, geo='TH',timeframe='2020-01-01 2020-04-30')\n",
    "df = trend.interest_over_time().iloc[:,:2]\n",
    "df.head()"
   ]
  },
  {
   "cell_type": "code",
   "execution_count": 66,
   "metadata": {},
   "outputs": [
    {
     "data": {
      "text/plain": [
       "<matplotlib.axes._subplots.AxesSubplot at 0x12f91ef98>"
      ]
     },
     "execution_count": 66,
     "metadata": {},
     "output_type": "execute_result"
    },
    {
     "data": {
      "image/png": "[encoded data removed]",
      "text/plain": [
       "<Figure size 432x288 with 1 Axes>"
      ]
     },
     "metadata": {
      "needs_background": "light"
     },
     "output_type": "display_data"
    }
   ],
   "source": [
    "df.plot()"
   ]
  },
  {
   "cell_type": "markdown",
   "metadata": {},
   "source": [
    "## 2. Stationarity Check: Augmented Dickey-Fuller Test"
   ]
  },
  {
   "cell_type": "markdown",
   "metadata": {},
   "source": [
    "Stationarity is a pre-requisite for Granger causality test. We first use [augmented Dickey-Fuller test](https://en.wikipedia.org/wiki/Augmented_Dickey%E2%80%93Fuller_test) to detect stationarity. For the following model:\n",
    "\n",
    "$$\\Delta y_t = \\alpha + \\beta t + \\gamma y_{t-1} + \\delta_1 \\Delta y_{t-1} + \\cdots + \\delta_{p-1} \\Delta y_{t-p+1} + \\varepsilon_t$$\n",
    "\n",
    "where $\\alpha$  is a constant, $\\beta$ the coefficient on a time trend and $p$ the lag order of the autoregressive process. The null hypothesis is that $\\gamma$ is 0; that is, $y_{t-1}$ does not have any valuable contribution to predicting $y_t$. If we reject the null hypothesis, that means $y_t$ does not have a unit root."
   ]
  },
  {
   "cell_type": "code",
   "execution_count": 67,
   "metadata": {},
   "outputs": [],
   "source": [
    "from statsmodels.tsa.stattools import adfuller\n",
    "\n",
    "#test for stationarity with augmented dickey fuller test\n",
    "def unit_root(name,series):\n",
    "    signif=0.05\n",
    "    r = adfuller(series, autolag='AIC')\n",
    "    output = {'test_statistic':round(r[0],4),'pvalue':round(r[1],4),'n_lags':round(r[2],4),'n_obs':r[3]}\n",
    "    p_value = output['pvalue']\n",
    "    def adjust(val,lenght=6): \n",
    "        return str(val).ljust(lenght)\n",
    "    print(f'Augmented Dickey-Fuller Test on \"{name}\"')\n",
    "    print('-'*47)\n",
    "    print(f'Null Hypothesis: Data has unit root. Non-Stationary.')\n",
    "    print(f'Observation           = {output[\"n_obs\"]}')\n",
    "    print(f'Significance Level    = {signif}')\n",
    "    print(f'Test Statistic        = {output[\"test_statistic\"]}')\n",
    "    print(f'No. Lags Chosen       = {output[\"n_lags\"]}')\n",
    "    for key,val in r[4].items():\n",
    "        print(f'Critical value {adjust(key)} = {round(val,3)}')\n",
    "    if p_value <= signif:\n",
    "        print(f'=> P-Value = {p_value}. Rejecting null hypothesis.')\n",
    "        print(f'=> Series is stationary.')\n",
    "    else:\n",
    "        print(f'=> P-Value = {p_value}. Cannot reject the null hypothesis.')\n",
    "        print(f'=> \"{name}\" is non-stationary.')"
   ]
  },
  {
   "cell_type": "markdown",
   "metadata": {},
   "source": [
    "2.1. `โคชูจัง` unit root test"
   ]
  },
  {
   "cell_type": "code",
   "execution_count": 68,
   "metadata": {},
   "outputs": [
    {
     "name": "stdout",
     "output_type": "stream",
     "text": [
      "Augmented Dickey-Fuller Test on \"โคชูจัง\"\n",
      "-----------------------------------------------\n",
      "Null Hypothesis: Data has unit root. Non-Stationary.\n",
      "Observation           = 107\n",
      "Significance Level    = 0.05\n",
      "Test Statistic        = -0.4375\n",
      "No. Lags Chosen       = 13\n",
      "Critical value 1%     = -3.493\n",
      "Critical value 5%     = -2.889\n",
      "Critical value 10%    = -2.581\n",
      "=> P-Value = 0.9036. Cannot reject the null hypothesis.\n",
      "=> \"โคชูจัง\" is non-stationary.\n"
     ]
    }
   ],
   "source": [
    "name = 'โคชูจัง'\n",
    "series = df.iloc[:,0]\n",
    "unit_root(name,series)"
   ]
  },
  {
   "cell_type": "markdown",
   "metadata": {},
   "source": [
    "2.2. `itaewon class` unit root test"
   ]
  },
  {
   "cell_type": "code",
   "execution_count": 69,
   "metadata": {},
   "outputs": [
    {
     "name": "stdout",
     "output_type": "stream",
     "text": [
      "Augmented Dickey-Fuller Test on \"itaewon class\"\n",
      "-----------------------------------------------\n",
      "Null Hypothesis: Data has unit root. Non-Stationary.\n",
      "Observation           = 113\n",
      "Significance Level    = 0.05\n",
      "Test Statistic        = -1.3504\n",
      "No. Lags Chosen       = 7\n",
      "Critical value 1%     = -3.49\n",
      "Critical value 5%     = -2.887\n",
      "Critical value 10%    = -2.581\n",
      "=> P-Value = 0.6058. Cannot reject the null hypothesis.\n",
      "=> \"itaewon class\" is non-stationary.\n"
     ]
    }
   ],
   "source": [
    "name = 'itaewon class'\n",
    "series = df.iloc[:,1]\n",
    "unit_root(name,series)"
   ]
  },
  {
   "cell_type": "markdown",
   "metadata": {},
   "source": [
    "We could not reject the null hypothesis of augmented Dickey-Fuller test for both time series. This should be evident just by looking at the plot that they are not stationary (have stable same means, variances, autocorrelations over time)."
   ]
  },
  {
   "cell_type": "markdown",
   "metadata": {},
   "source": [
    "## 3. Taking 1st Difference"
   ]
  },
  {
   "cell_type": "markdown",
   "metadata": {},
   "source": [
    "Most commonly used methods to \"stationarize\" a time series is to take the first difference aka $\\frac{y_t-y_{t-1}}{y_{t-1}}$ of the time series."
   ]
  },
  {
   "cell_type": "code",
   "execution_count": 70,
   "metadata": {},
   "outputs": [],
   "source": [
    "diff_df = df.diff(1).dropna()"
   ]
  },
  {
   "cell_type": "markdown",
   "metadata": {},
   "source": [
    "3.1. 1st Difference of `โคชูจัง` unit root test"
   ]
  },
  {
   "cell_type": "code",
   "execution_count": 71,
   "metadata": {},
   "outputs": [
    {
     "name": "stdout",
     "output_type": "stream",
     "text": [
      "Augmented Dickey-Fuller Test on \"โคชูจัง\"\n",
      "-----------------------------------------------\n",
      "Null Hypothesis: Data has unit root. Non-Stationary.\n",
      "Observation           = 107\n",
      "Significance Level    = 0.05\n",
      "Test Statistic        = -2.8133\n",
      "No. Lags Chosen       = 12\n",
      "Critical value 1%     = -3.493\n",
      "Critical value 5%     = -2.889\n",
      "Critical value 10%    = -2.581\n",
      "=> P-Value = 0.0564. Cannot reject the null hypothesis.\n",
      "=> \"โคชูจัง\" is non-stationary.\n"
     ]
    }
   ],
   "source": [
    "name = 'โคชูจัง'\n",
    "series = diff_df.iloc[:,0]\n",
    "unit_root(name,series)"
   ]
  },
  {
   "cell_type": "markdown",
   "metadata": {},
   "source": [
    "3.2. 1st Difference of `itaewon class` unit root test"
   ]
  },
  {
   "cell_type": "code",
   "execution_count": 72,
   "metadata": {},
   "outputs": [
    {
     "name": "stdout",
     "output_type": "stream",
     "text": [
      "Augmented Dickey-Fuller Test on \"itaewon class\"\n",
      "-----------------------------------------------\n",
      "Null Hypothesis: Data has unit root. Non-Stationary.\n",
      "Observation           = 113\n",
      "Significance Level    = 0.05\n",
      "Test Statistic        = -4.5131\n",
      "No. Lags Chosen       = 6\n",
      "Critical value 1%     = -3.49\n",
      "Critical value 5%     = -2.887\n",
      "Critical value 10%    = -2.581\n",
      "=> P-Value = 0.0002. Rejecting null hypothesis.\n",
      "=> Series is stationary.\n"
     ]
    }
   ],
   "source": [
    "name = 'itaewon class'\n",
    "series = diff_df.iloc[:,1]\n",
    "unit_root(name,series)"
   ]
  },
  {
   "cell_type": "code",
   "execution_count": 73,
   "metadata": {},
   "outputs": [
    {
     "data": {
      "text/plain": [
       "<matplotlib.axes._subplots.AxesSubplot at 0x12fb5b358>"
      ]
     },
     "execution_count": 73,
     "metadata": {},
     "output_type": "execute_result"
    },
    {
     "data": {
      "image/png": "[encoded data removed]",
      "text/plain": [
       "<Figure size 432x288 with 1 Axes>"
      ]
     },
     "metadata": {
      "needs_background": "light"
     },
     "output_type": "display_data"
    }
   ],
   "source": [
    "diff_df.plot()"
   ]
  },
  {
   "cell_type": "markdown",
   "metadata": {},
   "source": [
    "- 1st Difference of `itaewon class` is stationary at 5% significance.\n",
    "- 1st Difference of `โคชูจัง` is not stationary but 0.0564 is close enough to 5% significance, we are making an exception for this example."
   ]
  },
  {
   "cell_type": "markdown",
   "metadata": {},
   "source": [
    "## 5. Find Lag Length"
   ]
  },
  {
   "cell_type": "markdown",
   "metadata": {},
   "source": [
    "Note that `maxlag` is an important hyperparameter that determines if your Granger test is significant or not. There are some criteria you can you to find that lag but as with any frequentist statistical test, you need to understand what assumptions you are making."
   ]
  },
  {
   "cell_type": "code",
   "execution_count": 74,
   "metadata": {},
   "outputs": [
    {
     "data": {
      "text/html": [
       "<div>\n",
       "<style scoped>\n",
       "    .dataframe tbody tr th:only-of-type {\n",
       "        vertical-align: middle;\n",
       "    }\n",
       "\n",
       "    .dataframe tbody tr th {\n",
       "        vertical-align: top;\n",
       "    }\n",
       "\n",
       "    .dataframe thead th {\n",
       "        text-align: right;\n",
       "    }\n",
       "</style>\n",
       "<table border=\"1\" class=\"dataframe\">\n",
       "  <thead>\n",
       "    <tr style=\"text-align: right;\">\n",
       "      <th></th>\n",
       "      <th>โคชูจัง</th>\n",
       "      <th>itaewon class</th>\n",
       "    </tr>\n",
       "    <tr>\n",
       "      <th>date</th>\n",
       "      <th></th>\n",
       "      <th></th>\n",
       "    </tr>\n",
       "  </thead>\n",
       "  <tbody>\n",
       "    <tr>\n",
       "      <th>2020-01-02</th>\n",
       "      <td>-1.0</td>\n",
       "      <td>0.0</td>\n",
       "    </tr>\n",
       "    <tr>\n",
       "      <th>2020-01-03</th>\n",
       "      <td>0.0</td>\n",
       "      <td>0.0</td>\n",
       "    </tr>\n",
       "    <tr>\n",
       "      <th>2020-01-04</th>\n",
       "      <td>0.0</td>\n",
       "      <td>0.0</td>\n",
       "    </tr>\n",
       "    <tr>\n",
       "      <th>2020-01-05</th>\n",
       "      <td>0.0</td>\n",
       "      <td>0.0</td>\n",
       "    </tr>\n",
       "    <tr>\n",
       "      <th>2020-01-06</th>\n",
       "      <td>0.0</td>\n",
       "      <td>0.0</td>\n",
       "    </tr>\n",
       "  </tbody>\n",
       "</table>\n",
       "</div>"
      ],
      "text/plain": [
       "            โคชูจัง  itaewon class\n",
       "date                              \n",
       "2020-01-02     -1.0            0.0\n",
       "2020-01-03      0.0            0.0\n",
       "2020-01-04      0.0            0.0\n",
       "2020-01-05      0.0            0.0\n",
       "2020-01-06      0.0            0.0"
      ]
     },
     "execution_count": 74,
     "metadata": {},
     "output_type": "execute_result"
    }
   ],
   "source": [
    "import statsmodels.tsa.api as smt\n",
    "df_test = diff_df.copy()\n",
    "df_test.head()"
   ]
  },
  {
   "cell_type": "code",
   "execution_count": 75,
   "metadata": {},
   "outputs": [
    {
     "name": "stdout",
     "output_type": "stream",
     "text": [
      " VAR Order Selection (* highlights the minimums)  \n",
      "==================================================\n",
      "       AIC         BIC         FPE         HQIC   \n",
      "--------------------------------------------------\n",
      "0        5.692       5.742       296.4       5.712\n",
      "1        5.505       5.655       245.9       5.566\n",
      "2        5.360       5.610       212.8       5.461\n",
      "3        5.350       5.700       210.8       5.492\n",
      "4        5.271       5.720       194.7       5.453\n",
      "5        5.031      5.580*       153.3      5.254*\n",
      "6        5.042       5.692       155.2       5.305\n",
      "7        5.029       5.778       153.3       5.333\n",
      "8        4.993       5.842       148.1       5.337\n",
      "9        5.029       5.979       154.0       5.414\n",
      "10       5.032       6.081       154.9       5.458\n",
      "11      4.979*       6.128      147.3*       5.445\n",
      "12       5.012       6.261       152.9       5.518\n",
      "13       4.994       6.343       150.8       5.541\n",
      "--------------------------------------------------\n"
     ]
    }
   ],
   "source": [
    "# make a VAR model\n",
    "model = smt.VAR(df_test)\n",
    "res = model.select_order(maxlags=None)\n",
    "print(res.summary())"
   ]
  },
  {
   "cell_type": "markdown",
   "metadata": {},
   "source": [
    "One thing to note is that this hyperparameter affects the conclusion of the test and the best solution is to have a strong theoretical assumption but if not the empirical methods above could be the next best thing."
   ]
  },
  {
   "cell_type": "code",
   "execution_count": 76,
   "metadata": {},
   "outputs": [
    {
     "data": {
      "text/plain": [
       "<matplotlib.axes._subplots.AxesSubplot at 0x12fc69748>"
      ]
     },
     "execution_count": 76,
     "metadata": {},
     "output_type": "execute_result"
    },
    {
     "data": {
      "image/png": "[encoded data removed]",
      "text/plain": [
       "<Figure size 432x288 with 1 Axes>"
      ]
     },
     "metadata": {
      "needs_background": "light"
     },
     "output_type": "display_data"
    }
   ],
   "source": [
    "#find the optimal lag\n",
    "lags = list(range(1,23))\n",
    "res = grangercausalitytests(df_test, maxlag=lags, verbose=False)\n",
    "p_values = []\n",
    "for i in lags:\n",
    "    p_values.append({'maxlag':i,\n",
    "                    'ftest':res[i][0]['ssr_ftest'][1], \n",
    "                    'chi2':res[i][0]['ssr_chi2test'][1],\n",
    "                    'lr':res[i][0]['lrtest'][1],\n",
    "                    'params_ftest':res[i][0]['params_ftest'][1],})\n",
    "p_df = pd.DataFrame(p_values)\n",
    "p_df.iloc[:,1:].plot()"
   ]
  },
  {
   "cell_type": "markdown",
   "metadata": {},
   "source": [
    "## 6. Granger Causality Test"
   ]
  },
  {
   "cell_type": "markdown",
   "metadata": {},
   "source": [
    "The Granger causality test the null hypothesis that $x_t$ **DOES NOT** Granger cause $y_t$ with the following models:\n",
    "\n",
    "$$y_{t}=a_{0}+a_{1}y_{t-1}+a_{2}y_{t-2}+\\cdots +a_{m}y_{t-m}+{\\text{error}}_{t}$$\n",
    "\n",
    "and\n",
    "\n",
    "$$y_{t}=a_{0}+a_{1}y_{t-1}+a_{2}y_{t-2}+\\cdots +a_{m}y_{t-m}+b_{p}x_{t-p}+\\cdots +b_{q}x_{t-q}+{\\text{error}}_{t}$$\n",
    "\n",
    "An F-statistic is then calculated by ratio of residual sums of squares of these two models."
   ]
  },
  {
   "cell_type": "code",
   "execution_count": 38,
   "metadata": {},
   "outputs": [],
   "source": [
    "from statsmodels.tsa.stattools import grangercausalitytests\n",
    "\n",
    "def granger_causation_matrix(data, variables,test,verbose=False):\n",
    "    x = pd.DataFrame(np.zeros((len(variables),len(variables))), columns=variables,index=variables)\n",
    "    for c in x.columns:\n",
    "        for r in x.index:\n",
    "            test_result = grangercausalitytests(data[[r,c]], maxlag=maxlag, verbose=False)\n",
    "            p_values = [round(test_result[i+1][0][test][1],4) for i in range(maxlag)]\n",
    "            if verbose: \n",
    "                print(f'Y = {r}, X= {c},P Values = {p_values}')\n",
    "            min_p_value = np.min(p_values)\n",
    "            x.loc[r,c] = min_p_value\n",
    "    x.columns = [var + '_x' for var in variables]\n",
    "    x.index = [var + '_y' for var in variables]\n",
    "    return x"
   ]
  },
  {
   "cell_type": "code",
   "execution_count": 43,
   "metadata": {},
   "outputs": [
    {
     "data": {
      "text/plain": [
       "13"
      ]
     },
     "execution_count": 43,
     "metadata": {},
     "output_type": "execute_result"
    }
   ],
   "source": [
    "# maxlag is the maximum lag that is possible number by statsmodels default\n",
    "nobs = len(df_test.index)\n",
    "maxlag = round(12*(nobs/100.)**(1/4.))\n",
    "maxlag"
   ]
  },
  {
   "cell_type": "code",
   "execution_count": 44,
   "metadata": {},
   "outputs": [],
   "source": [
    "data = df_test\n",
    "variables = df_test.columns"
   ]
  },
  {
   "cell_type": "markdown",
   "metadata": {},
   "source": [
    "#### 6.1. SSR based F test"
   ]
  },
  {
   "cell_type": "code",
   "execution_count": 45,
   "metadata": {},
   "outputs": [],
   "source": [
    "test = 'ssr_ftest'\n",
    "ssr_ftest = granger_causation_matrix(data, variables, test)\n",
    "ssr_ftest['test'] = 'ssr_ftest'"
   ]
  },
  {
   "cell_type": "markdown",
   "metadata": {},
   "source": [
    "#### 6.2. SSR based chi2 test"
   ]
  },
  {
   "cell_type": "code",
   "execution_count": 46,
   "metadata": {},
   "outputs": [],
   "source": [
    "test = 'ssr_chi2test'\n",
    "ssr_chi2test = granger_causation_matrix(data, variables, test)\n",
    "ssr_chi2test['test'] = 'ssr_chi2test'"
   ]
  },
  {
   "cell_type": "markdown",
   "metadata": {},
   "source": [
    "#### 6.3. Likelihood ratio test"
   ]
  },
  {
   "cell_type": "code",
   "execution_count": 47,
   "metadata": {},
   "outputs": [],
   "source": [
    "test = 'lrtest'\n",
    "lrtest = granger_causation_matrix(data, variables, test)\n",
    "lrtest['test'] = 'lrtest'"
   ]
  },
  {
   "cell_type": "markdown",
   "metadata": {},
   "source": [
    "#### 6.4. Parameter F test"
   ]
  },
  {
   "cell_type": "code",
   "execution_count": 48,
   "metadata": {},
   "outputs": [],
   "source": [
    "test = 'params_ftest'\n",
    "params_ftest = granger_causation_matrix(data, variables, test)\n",
    "params_ftest['test'] = 'params_ftest'"
   ]
  },
  {
   "cell_type": "code",
   "execution_count": 50,
   "metadata": {},
   "outputs": [
    {
     "data": {
      "text/html": [
       "<div>\n",
       "<style scoped>\n",
       "    .dataframe tbody tr th:only-of-type {\n",
       "        vertical-align: middle;\n",
       "    }\n",
       "\n",
       "    .dataframe tbody tr th {\n",
       "        vertical-align: top;\n",
       "    }\n",
       "\n",
       "    .dataframe thead th {\n",
       "        text-align: right;\n",
       "    }\n",
       "</style>\n",
       "<table border=\"1\" class=\"dataframe\">\n",
       "  <thead>\n",
       "    <tr style=\"text-align: right;\">\n",
       "      <th></th>\n",
       "      <th>โคชูจัง_x</th>\n",
       "      <th>itaewon class_x</th>\n",
       "      <th>test</th>\n",
       "    </tr>\n",
       "  </thead>\n",
       "  <tbody>\n",
       "    <tr>\n",
       "      <th>โคชูจัง_y</th>\n",
       "      <td>1.0000</td>\n",
       "      <td>0.0100</td>\n",
       "      <td>ssr_ftest</td>\n",
       "    </tr>\n",
       "    <tr>\n",
       "      <th>itaewon class_y</th>\n",
       "      <td>0.4093</td>\n",
       "      <td>1.0000</td>\n",
       "      <td>ssr_ftest</td>\n",
       "    </tr>\n",
       "    <tr>\n",
       "      <th>โคชูจัง_y</th>\n",
       "      <td>1.0000</td>\n",
       "      <td>0.0002</td>\n",
       "      <td>ssr_chi2test</td>\n",
       "    </tr>\n",
       "    <tr>\n",
       "      <th>itaewon class_y</th>\n",
       "      <td>0.3220</td>\n",
       "      <td>1.0000</td>\n",
       "      <td>ssr_chi2test</td>\n",
       "    </tr>\n",
       "    <tr>\n",
       "      <th>โคชูจัง_y</th>\n",
       "      <td>1.0000</td>\n",
       "      <td>0.0013</td>\n",
       "      <td>lrtest</td>\n",
       "    </tr>\n",
       "    <tr>\n",
       "      <th>itaewon class_y</th>\n",
       "      <td>0.3415</td>\n",
       "      <td>1.0000</td>\n",
       "      <td>lrtest</td>\n",
       "    </tr>\n",
       "    <tr>\n",
       "      <th>โคชูจัง_y</th>\n",
       "      <td>0.0000</td>\n",
       "      <td>0.0100</td>\n",
       "      <td>params_ftest</td>\n",
       "    </tr>\n",
       "    <tr>\n",
       "      <th>itaewon class_y</th>\n",
       "      <td>0.4093</td>\n",
       "      <td>0.0000</td>\n",
       "      <td>params_ftest</td>\n",
       "    </tr>\n",
       "  </tbody>\n",
       "</table>\n",
       "</div>"
      ],
      "text/plain": [
       "                 โคชูจัง_x  itaewon class_x          test\n",
       "โคชูจัง_y           1.0000           0.0100     ssr_ftest\n",
       "itaewon class_y     0.4093           1.0000     ssr_ftest\n",
       "โคชูจัง_y           1.0000           0.0002  ssr_chi2test\n",
       "itaewon class_y     0.3220           1.0000  ssr_chi2test\n",
       "โคชูจัง_y           1.0000           0.0013        lrtest\n",
       "itaewon class_y     0.3415           1.0000        lrtest\n",
       "โคชูจัง_y           0.0000           0.0100  params_ftest\n",
       "itaewon class_y     0.4093           0.0000  params_ftest"
      ]
     },
     "execution_count": 50,
     "metadata": {},
     "output_type": "execute_result"
    }
   ],
   "source": [
    "frames = [ssr_ftest, ssr_chi2test, lrtest, params_ftest]\n",
    "all_test = pd.concat(frames)\n",
    "all_test"
   ]
  },
  {
   "cell_type": "markdown",
   "metadata": {},
   "source": [
    "We may conclude that `itaewon class` Granger caused `โคชูจัง`, but `โคชูจัง`  did not Granger cause `itaewon class`."
   ]
  },
  {
   "cell_type": "markdown",
   "metadata": {},
   "source": [
    "# What About Chicken and Eggs?"
   ]
  },
  {
   "cell_type": "markdown",
   "metadata": {},
   "source": [
    "We use the annual chicken and eggs data from [Thurman and Fisher (1988) hosted by UIUC](http://www.econ.uiuc.edu/~econ536/Data/)."
   ]
  },
  {
   "cell_type": "markdown",
   "metadata": {},
   "source": [
    "## 1. Get data from csv file"
   ]
  },
  {
   "cell_type": "code",
   "execution_count": 77,
   "metadata": {},
   "outputs": [
    {
     "data": {
      "text/html": [
       "<div>\n",
       "<style scoped>\n",
       "    .dataframe tbody tr th:only-of-type {\n",
       "        vertical-align: middle;\n",
       "    }\n",
       "\n",
       "    .dataframe tbody tr th {\n",
       "        vertical-align: top;\n",
       "    }\n",
       "\n",
       "    .dataframe thead th {\n",
       "        text-align: right;\n",
       "    }\n",
       "</style>\n",
       "<table border=\"1\" class=\"dataframe\">\n",
       "  <thead>\n",
       "    <tr style=\"text-align: right;\">\n",
       "      <th></th>\n",
       "      <th>year</th>\n",
       "      <th>chic</th>\n",
       "      <th>egg</th>\n",
       "    </tr>\n",
       "  </thead>\n",
       "  <tbody>\n",
       "    <tr>\n",
       "      <th>0</th>\n",
       "      <td>1930</td>\n",
       "      <td>468491</td>\n",
       "      <td>3581</td>\n",
       "    </tr>\n",
       "    <tr>\n",
       "      <th>1</th>\n",
       "      <td>1931</td>\n",
       "      <td>449743</td>\n",
       "      <td>3532</td>\n",
       "    </tr>\n",
       "    <tr>\n",
       "      <th>2</th>\n",
       "      <td>1932</td>\n",
       "      <td>436815</td>\n",
       "      <td>3327</td>\n",
       "    </tr>\n",
       "    <tr>\n",
       "      <th>3</th>\n",
       "      <td>1933</td>\n",
       "      <td>444523</td>\n",
       "      <td>3255</td>\n",
       "    </tr>\n",
       "    <tr>\n",
       "      <th>4</th>\n",
       "      <td>1934</td>\n",
       "      <td>433937</td>\n",
       "      <td>3156</td>\n",
       "    </tr>\n",
       "    <tr>\n",
       "      <th>...</th>\n",
       "      <td>...</td>\n",
       "      <td>...</td>\n",
       "      <td>...</td>\n",
       "    </tr>\n",
       "    <tr>\n",
       "      <th>70</th>\n",
       "      <td>2000</td>\n",
       "      <td>434687</td>\n",
       "      <td>7060</td>\n",
       "    </tr>\n",
       "    <tr>\n",
       "      <th>71</th>\n",
       "      <td>2001</td>\n",
       "      <td>441089</td>\n",
       "      <td>7174</td>\n",
       "    </tr>\n",
       "    <tr>\n",
       "      <th>72</th>\n",
       "      <td>2002</td>\n",
       "      <td>438948</td>\n",
       "      <td>7271</td>\n",
       "    </tr>\n",
       "    <tr>\n",
       "      <th>73</th>\n",
       "      <td>2003</td>\n",
       "      <td>448748</td>\n",
       "      <td>7289</td>\n",
       "    </tr>\n",
       "    <tr>\n",
       "      <th>74</th>\n",
       "      <td>2004</td>\n",
       "      <td>454165</td>\n",
       "      <td>7428</td>\n",
       "    </tr>\n",
       "  </tbody>\n",
       "</table>\n",
       "<p>75 rows × 3 columns</p>\n",
       "</div>"
      ],
      "text/plain": [
       "    year    chic   egg\n",
       "0   1930  468491  3581\n",
       "1   1931  449743  3532\n",
       "2   1932  436815  3327\n",
       "3   1933  444523  3255\n",
       "4   1934  433937  3156\n",
       "..   ...     ...   ...\n",
       "70  2000  434687  7060\n",
       "71  2001  441089  7174\n",
       "72  2002  438948  7271\n",
       "73  2003  448748  7289\n",
       "74  2004  454165  7428\n",
       "\n",
       "[75 rows x 3 columns]"
      ]
     },
     "execution_count": 77,
     "metadata": {},
     "output_type": "execute_result"
    }
   ],
   "source": [
    "#chicken and eggs\n",
    "chickeggs = pd.read_csv('chickeggs.csv')\n",
    "chickeggs"
   ]
  },
  {
   "cell_type": "code",
   "execution_count": 78,
   "metadata": {},
   "outputs": [],
   "source": [
    "#normalize for 1930 to be 1\n",
    "df = chickeggs.iloc[:,1:]\n",
    "df['chic'] = df.chic /  df.chic[0]\n",
    "df['egg'] = df.egg /  df.egg[0]"
   ]
  },
  {
   "cell_type": "code",
   "execution_count": 79,
   "metadata": {},
   "outputs": [
    {
     "data": {
      "text/html": [
       "<div>\n",
       "<style scoped>\n",
       "    .dataframe tbody tr th:only-of-type {\n",
       "        vertical-align: middle;\n",
       "    }\n",
       "\n",
       "    .dataframe tbody tr th {\n",
       "        vertical-align: top;\n",
       "    }\n",
       "\n",
       "    .dataframe thead th {\n",
       "        text-align: right;\n",
       "    }\n",
       "</style>\n",
       "<table border=\"1\" class=\"dataframe\">\n",
       "  <thead>\n",
       "    <tr style=\"text-align: right;\">\n",
       "      <th></th>\n",
       "      <th>chic</th>\n",
       "      <th>egg</th>\n",
       "    </tr>\n",
       "  </thead>\n",
       "  <tbody>\n",
       "    <tr>\n",
       "      <th>0</th>\n",
       "      <td>1.000000</td>\n",
       "      <td>1.000000</td>\n",
       "    </tr>\n",
       "    <tr>\n",
       "      <th>1</th>\n",
       "      <td>0.959982</td>\n",
       "      <td>0.986317</td>\n",
       "    </tr>\n",
       "    <tr>\n",
       "      <th>2</th>\n",
       "      <td>0.932387</td>\n",
       "      <td>0.929070</td>\n",
       "    </tr>\n",
       "    <tr>\n",
       "      <th>3</th>\n",
       "      <td>0.948840</td>\n",
       "      <td>0.908964</td>\n",
       "    </tr>\n",
       "    <tr>\n",
       "      <th>4</th>\n",
       "      <td>0.926244</td>\n",
       "      <td>0.881318</td>\n",
       "    </tr>\n",
       "    <tr>\n",
       "      <th>...</th>\n",
       "      <td>...</td>\n",
       "      <td>...</td>\n",
       "    </tr>\n",
       "    <tr>\n",
       "      <th>70</th>\n",
       "      <td>0.927845</td>\n",
       "      <td>1.971516</td>\n",
       "    </tr>\n",
       "    <tr>\n",
       "      <th>71</th>\n",
       "      <td>0.941510</td>\n",
       "      <td>2.003351</td>\n",
       "    </tr>\n",
       "    <tr>\n",
       "      <th>72</th>\n",
       "      <td>0.936940</td>\n",
       "      <td>2.030438</td>\n",
       "    </tr>\n",
       "    <tr>\n",
       "      <th>73</th>\n",
       "      <td>0.957858</td>\n",
       "      <td>2.035465</td>\n",
       "    </tr>\n",
       "    <tr>\n",
       "      <th>74</th>\n",
       "      <td>0.969421</td>\n",
       "      <td>2.074281</td>\n",
       "    </tr>\n",
       "  </tbody>\n",
       "</table>\n",
       "<p>75 rows × 2 columns</p>\n",
       "</div>"
      ],
      "text/plain": [
       "        chic       egg\n",
       "0   1.000000  1.000000\n",
       "1   0.959982  0.986317\n",
       "2   0.932387  0.929070\n",
       "3   0.948840  0.908964\n",
       "4   0.926244  0.881318\n",
       "..       ...       ...\n",
       "70  0.927845  1.971516\n",
       "71  0.941510  2.003351\n",
       "72  0.936940  2.030438\n",
       "73  0.957858  2.035465\n",
       "74  0.969421  2.074281\n",
       "\n",
       "[75 rows x 2 columns]"
      ]
     },
     "execution_count": 79,
     "metadata": {},
     "output_type": "execute_result"
    }
   ],
   "source": [
    "df = df[['chic','egg']]\n",
    "df"
   ]
  },
  {
   "cell_type": "code",
   "execution_count": 80,
   "metadata": {},
   "outputs": [
    {
     "data": {
      "text/plain": [
       "<matplotlib.axes._subplots.AxesSubplot at 0x12fd266a0>"
      ]
     },
     "execution_count": 80,
     "metadata": {},
     "output_type": "execute_result"
    },
    {
     "data": {
      "image/png": "[encoded data removed]",
      "text/plain": [
       "<Figure size 432x288 with 1 Axes>"
      ]
     },
     "metadata": {
      "needs_background": "light"
     },
     "output_type": "display_data"
    }
   ],
   "source": [
    "df.plot()"
   ]
  },
  {
   "cell_type": "markdown",
   "metadata": {},
   "source": [
    "## 2. Stationarity check: Augmented Dickey-Fuller Test"
   ]
  },
  {
   "cell_type": "markdown",
   "metadata": {},
   "source": [
    "2.1. `egg` unit root test"
   ]
  },
  {
   "cell_type": "code",
   "execution_count": 81,
   "metadata": {},
   "outputs": [
    {
     "name": "stdout",
     "output_type": "stream",
     "text": [
      "Augmented Dickey-Fuller Test on \"egg\"\n",
      "-----------------------------------------------\n",
      "Null Hypothesis: Data has unit root. Non-Stationary.\n",
      "Observation           = 70\n",
      "Significance Level    = 0.05\n",
      "Test Statistic        = -2.6729\n",
      "No. Lags Chosen       = 4\n",
      "Critical value 1%     = -3.527\n",
      "Critical value 5%     = -2.904\n",
      "Critical value 10%    = -2.589\n",
      "=> P-Value = 0.0788. Cannot reject the null hypothesis.\n",
      "=> \"egg\" is non-stationary.\n"
     ]
    }
   ],
   "source": [
    "name = 'egg'\n",
    "series = df.iloc[:,0]\n",
    "unit_root(name,series)"
   ]
  },
  {
   "cell_type": "markdown",
   "metadata": {},
   "source": [
    "2.2. `chic` unit root test"
   ]
  },
  {
   "cell_type": "code",
   "execution_count": 82,
   "metadata": {},
   "outputs": [
    {
     "name": "stdout",
     "output_type": "stream",
     "text": [
      "Augmented Dickey-Fuller Test on \"chic\"\n",
      "-----------------------------------------------\n",
      "Null Hypothesis: Data has unit root. Non-Stationary.\n",
      "Observation           = 73\n",
      "Significance Level    = 0.05\n",
      "Test Statistic        = -0.809\n",
      "No. Lags Chosen       = 1\n",
      "Critical value 1%     = -3.523\n",
      "Critical value 5%     = -2.902\n",
      "Critical value 10%    = -2.588\n",
      "=> P-Value = 0.8165. Cannot reject the null hypothesis.\n",
      "=> \"chic\" is non-stationary.\n"
     ]
    }
   ],
   "source": [
    "name = 'chic'\n",
    "series = df.iloc[:,1]\n",
    "unit_root(name,series)"
   ]
  },
  {
   "cell_type": "markdown",
   "metadata": {},
   "source": [
    "## 3. Taking 1st Difference"
   ]
  },
  {
   "cell_type": "code",
   "execution_count": 83,
   "metadata": {},
   "outputs": [
    {
     "data": {
      "text/html": [
       "<div>\n",
       "<style scoped>\n",
       "    .dataframe tbody tr th:only-of-type {\n",
       "        vertical-align: middle;\n",
       "    }\n",
       "\n",
       "    .dataframe tbody tr th {\n",
       "        vertical-align: top;\n",
       "    }\n",
       "\n",
       "    .dataframe thead th {\n",
       "        text-align: right;\n",
       "    }\n",
       "</style>\n",
       "<table border=\"1\" class=\"dataframe\">\n",
       "  <thead>\n",
       "    <tr style=\"text-align: right;\">\n",
       "      <th></th>\n",
       "      <th>chic</th>\n",
       "      <th>egg</th>\n",
       "    </tr>\n",
       "  </thead>\n",
       "  <tbody>\n",
       "    <tr>\n",
       "      <th>1</th>\n",
       "      <td>-0.040018</td>\n",
       "      <td>-0.013683</td>\n",
       "    </tr>\n",
       "    <tr>\n",
       "      <th>2</th>\n",
       "      <td>-0.027595</td>\n",
       "      <td>-0.057247</td>\n",
       "    </tr>\n",
       "    <tr>\n",
       "      <th>3</th>\n",
       "      <td>0.016453</td>\n",
       "      <td>-0.020106</td>\n",
       "    </tr>\n",
       "    <tr>\n",
       "      <th>4</th>\n",
       "      <td>-0.022596</td>\n",
       "      <td>-0.027646</td>\n",
       "    </tr>\n",
       "    <tr>\n",
       "      <th>5</th>\n",
       "      <td>-0.093874</td>\n",
       "      <td>-0.020944</td>\n",
       "    </tr>\n",
       "    <tr>\n",
       "      <th>...</th>\n",
       "      <td>...</td>\n",
       "      <td>...</td>\n",
       "    </tr>\n",
       "    <tr>\n",
       "      <th>70</th>\n",
       "      <td>-0.003498</td>\n",
       "      <td>0.041329</td>\n",
       "    </tr>\n",
       "    <tr>\n",
       "      <th>71</th>\n",
       "      <td>0.013665</td>\n",
       "      <td>0.031835</td>\n",
       "    </tr>\n",
       "    <tr>\n",
       "      <th>72</th>\n",
       "      <td>-0.004570</td>\n",
       "      <td>0.027087</td>\n",
       "    </tr>\n",
       "    <tr>\n",
       "      <th>73</th>\n",
       "      <td>0.020918</td>\n",
       "      <td>0.005027</td>\n",
       "    </tr>\n",
       "    <tr>\n",
       "      <th>74</th>\n",
       "      <td>0.011563</td>\n",
       "      <td>0.038816</td>\n",
       "    </tr>\n",
       "  </tbody>\n",
       "</table>\n",
       "<p>74 rows × 2 columns</p>\n",
       "</div>"
      ],
      "text/plain": [
       "        chic       egg\n",
       "1  -0.040018 -0.013683\n",
       "2  -0.027595 -0.057247\n",
       "3   0.016453 -0.020106\n",
       "4  -0.022596 -0.027646\n",
       "5  -0.093874 -0.020944\n",
       "..       ...       ...\n",
       "70 -0.003498  0.041329\n",
       "71  0.013665  0.031835\n",
       "72 -0.004570  0.027087\n",
       "73  0.020918  0.005027\n",
       "74  0.011563  0.038816\n",
       "\n",
       "[74 rows x 2 columns]"
      ]
     },
     "execution_count": 83,
     "metadata": {},
     "output_type": "execute_result"
    }
   ],
   "source": [
    "diff_df = df.diff(1).dropna()\n",
    "diff_df"
   ]
  },
  {
   "cell_type": "code",
   "execution_count": 84,
   "metadata": {},
   "outputs": [
    {
     "data": {
      "text/plain": [
       "<matplotlib.axes._subplots.AxesSubplot at 0x12fe02b00>"
      ]
     },
     "execution_count": 84,
     "metadata": {},
     "output_type": "execute_result"
    },
    {
     "data": {
      "image/png": "[encoded data removed]",
      "text/plain": [
       "<Figure size 432x288 with 1 Axes>"
      ]
     },
     "metadata": {
      "needs_background": "light"
     },
     "output_type": "display_data"
    }
   ],
   "source": [
    "diff_df.plot()"
   ]
  },
  {
   "cell_type": "markdown",
   "metadata": {},
   "source": [
    "3.1. 1st Difference of `egg` unit root test"
   ]
  },
  {
   "cell_type": "code",
   "execution_count": 85,
   "metadata": {},
   "outputs": [
    {
     "name": "stdout",
     "output_type": "stream",
     "text": [
      "Augmented Dickey-Fuller Test on \"egg\"\n",
      "-----------------------------------------------\n",
      "Null Hypothesis: Data has unit root. Non-Stationary.\n",
      "Observation           = 71\n",
      "Significance Level    = 0.05\n",
      "Test Statistic        = -4.4793\n",
      "No. Lags Chosen       = 2\n",
      "Critical value 1%     = -3.526\n",
      "Critical value 5%     = -2.903\n",
      "Critical value 10%    = -2.589\n",
      "=> P-Value = 0.0002. Rejecting null hypothesis.\n",
      "=> Series is stationary.\n"
     ]
    }
   ],
   "source": [
    "name = 'egg'\n",
    "series = diff_df.iloc[:,0]\n",
    "unit_root(name,series)"
   ]
  },
  {
   "cell_type": "markdown",
   "metadata": {},
   "source": [
    "3.2. 1st Difference of `chic` unit root test"
   ]
  },
  {
   "cell_type": "code",
   "execution_count": 86,
   "metadata": {},
   "outputs": [
    {
     "name": "stdout",
     "output_type": "stream",
     "text": [
      "Augmented Dickey-Fuller Test on \"chic\"\n",
      "-----------------------------------------------\n",
      "Null Hypothesis: Data has unit root. Non-Stationary.\n",
      "Observation           = 73\n",
      "Significance Level    = 0.05\n",
      "Test Statistic        = -5.6382\n",
      "No. Lags Chosen       = 0\n",
      "Critical value 1%     = -3.523\n",
      "Critical value 5%     = -2.902\n",
      "Critical value 10%    = -2.588\n",
      "=> P-Value = 0.0. Rejecting null hypothesis.\n",
      "=> Series is stationary.\n"
     ]
    }
   ],
   "source": [
    "name = 'chic'\n",
    "series = diff_df.iloc[:,1]\n",
    "unit_root(name,series)"
   ]
  },
  {
   "cell_type": "markdown",
   "metadata": {},
   "source": [
    "## 4. Find Lag Length"
   ]
  },
  {
   "cell_type": "code",
   "execution_count": 88,
   "metadata": {},
   "outputs": [
    {
     "name": "stdout",
     "output_type": "stream",
     "text": [
      " VAR Order Selection (* highlights the minimums)  \n",
      "==================================================\n",
      "       AIC         BIC         FPE         HQIC   \n",
      "--------------------------------------------------\n",
      "0       -12.85      -12.78   2.628e-06      -12.82\n",
      "1      -13.11*     -12.90*  2.032e-06*     -13.03*\n",
      "2       -13.04      -12.70   2.177e-06      -12.90\n",
      "3       -13.00      -12.52   2.275e-06      -12.81\n",
      "4       -12.99      -12.38   2.284e-06      -12.75\n",
      "5       -13.03      -12.28   2.214e-06      -12.73\n",
      "6       -12.95      -12.06   2.415e-06      -12.60\n",
      "7       -12.83      -11.81   2.730e-06      -12.43\n",
      "8       -12.83      -11.68   2.742e-06      -12.38\n",
      "9       -12.75      -11.46   3.007e-06      -12.24\n",
      "10      -12.89      -11.46   2.663e-06      -12.33\n",
      "11      -12.89      -11.32   2.710e-06      -12.27\n",
      "--------------------------------------------------\n"
     ]
    }
   ],
   "source": [
    "# make a VAR model\n",
    "model = smt.VAR(diff_df)\n",
    "res = model.select_order(maxlags=None)\n",
    "print(res.summary())"
   ]
  },
  {
   "cell_type": "code",
   "execution_count": 90,
   "metadata": {},
   "outputs": [
    {
     "name": "stdout",
     "output_type": "stream",
     "text": [
      "Eggs Granger cause Chickens\n"
     ]
    },
    {
     "data": {
      "text/plain": [
       "<matplotlib.axes._subplots.AxesSubplot at 0x12fedab00>"
      ]
     },
     "execution_count": 90,
     "metadata": {},
     "output_type": "execute_result"
    },
    {
     "data": {
      "image/png": "[encoded data removed]",
      "text/plain": [
       "<Figure size 432x288 with 1 Axes>"
      ]
     },
     "metadata": {
      "needs_background": "light"
     },
     "output_type": "display_data"
    }
   ],
   "source": [
    "#find the optimal lag\n",
    "lags = list(range(1,23))\n",
    "res = grangercausalitytests(diff_df, maxlag=lags, verbose=False)\n",
    "p_values = []\n",
    "for i in lags:\n",
    "    p_values.append({'maxlag':i,\n",
    "                    'ftest':res[i][0]['ssr_ftest'][1], \n",
    "                    'chi2':res[i][0]['ssr_chi2test'][1],\n",
    "                    'lr':res[i][0]['lrtest'][1],\n",
    "                    'params_ftest':res[i][0]['params_ftest'][1],})\n",
    "p_df = pd.DataFrame(p_values)\n",
    "print('Eggs Granger cause Chickens')\n",
    "p_df.iloc[:,1:].plot()"
   ]
  },
  {
   "cell_type": "code",
   "execution_count": 94,
   "metadata": {},
   "outputs": [
    {
     "name": "stdout",
     "output_type": "stream",
     "text": [
      "Chickens Granger cause Eggs\n"
     ]
    },
    {
     "data": {
      "text/plain": [
       "<matplotlib.axes._subplots.AxesSubplot at 0x130050c18>"
      ]
     },
     "execution_count": 94,
     "metadata": {},
     "output_type": "execute_result"
    },
    {
     "data": {
      "image/png": "[encoded data removed]",
      "text/plain": [
       "<Figure size 432x288 with 1 Axes>"
      ]
     },
     "metadata": {
      "needs_background": "light"
     },
     "output_type": "display_data"
    }
   ],
   "source": [
    "#find the optimal lag\n",
    "lags = list(range(1,23))\n",
    "res = grangercausalitytests(diff_df[['egg','chic']], maxlag=lags, verbose=False)\n",
    "p_values = []\n",
    "for i in lags:\n",
    "    p_values.append({'maxlag':i,\n",
    "                    'ftest':res[i][0]['ssr_ftest'][1], \n",
    "                    'chi2':res[i][0]['ssr_chi2test'][1],\n",
    "                    'lr':res[i][0]['lrtest'][1],\n",
    "                    'params_ftest':res[i][0]['params_ftest'][1],})\n",
    "p_df = pd.DataFrame(p_values)\n",
    "print('Chickens Granger cause Eggs')\n",
    "p_df.iloc[:,1:].plot()"
   ]
  },
  {
   "cell_type": "markdown",
   "metadata": {},
   "source": [
    "## 5. Granger Causality Test"
   ]
  },
  {
   "cell_type": "code",
   "execution_count": 95,
   "metadata": {},
   "outputs": [],
   "source": [
    "# nobs is number of observation\n",
    "nobs = len(diff_df.index)\n",
    "# maxlag is the maximum lag that is possible number\n",
    "maxlag = round(12*(nobs/100.)**(1/4.))\n",
    "data = diff_df\n",
    "variables = diff_df.columns"
   ]
  },
  {
   "cell_type": "markdown",
   "metadata": {},
   "source": [
    "#### 5.1. SSR based F test"
   ]
  },
  {
   "cell_type": "code",
   "execution_count": 96,
   "metadata": {},
   "outputs": [],
   "source": [
    "test = 'ssr_ftest'\n",
    "ssr_ftest = granger_causation_matrix(data, variables, test)\n",
    "ssr_ftest['test'] = 'ssr_ftest'"
   ]
  },
  {
   "cell_type": "markdown",
   "metadata": {},
   "source": [
    "#### 5.2. SSR based chi2 test"
   ]
  },
  {
   "cell_type": "code",
   "execution_count": 97,
   "metadata": {},
   "outputs": [],
   "source": [
    "test = 'ssr_chi2test'\n",
    "ssr_chi2test = granger_causation_matrix(data, variables, test)\n",
    "ssr_chi2test['test'] = 'ssr_chi2test'"
   ]
  },
  {
   "cell_type": "markdown",
   "metadata": {},
   "source": [
    "#### 5.3. Likelihood ratio test"
   ]
  },
  {
   "cell_type": "code",
   "execution_count": 98,
   "metadata": {},
   "outputs": [],
   "source": [
    "test = 'lrtest'\n",
    "lrtest = granger_causation_matrix(data, variables, test)\n",
    "lrtest['test'] = 'lrtest'"
   ]
  },
  {
   "cell_type": "markdown",
   "metadata": {},
   "source": [
    "#### 5.4. Parameter F test"
   ]
  },
  {
   "cell_type": "code",
   "execution_count": 99,
   "metadata": {},
   "outputs": [],
   "source": [
    "test = 'params_ftest'\n",
    "params_ftest = granger_causation_matrix(data, variables, test)\n",
    "params_ftest['test'] = 'params_ftest'"
   ]
  },
  {
   "cell_type": "code",
   "execution_count": 101,
   "metadata": {},
   "outputs": [
    {
     "data": {
      "text/html": [
       "<div>\n",
       "<style scoped>\n",
       "    .dataframe tbody tr th:only-of-type {\n",
       "        vertical-align: middle;\n",
       "    }\n",
       "\n",
       "    .dataframe tbody tr th {\n",
       "        vertical-align: top;\n",
       "    }\n",
       "\n",
       "    .dataframe thead th {\n",
       "        text-align: right;\n",
       "    }\n",
       "</style>\n",
       "<table border=\"1\" class=\"dataframe\">\n",
       "  <thead>\n",
       "    <tr style=\"text-align: right;\">\n",
       "      <th></th>\n",
       "      <th>chic_x</th>\n",
       "      <th>egg_x</th>\n",
       "      <th>test</th>\n",
       "    </tr>\n",
       "  </thead>\n",
       "  <tbody>\n",
       "    <tr>\n",
       "      <th>chic_y</th>\n",
       "      <td>1.0000</td>\n",
       "      <td>0.0008</td>\n",
       "      <td>ssr_ftest</td>\n",
       "    </tr>\n",
       "    <tr>\n",
       "      <th>egg_y</th>\n",
       "      <td>0.2302</td>\n",
       "      <td>1.0000</td>\n",
       "      <td>ssr_ftest</td>\n",
       "    </tr>\n",
       "    <tr>\n",
       "      <th>chic_y</th>\n",
       "      <td>1.0000</td>\n",
       "      <td>0.0003</td>\n",
       "      <td>ssr_chi2test</td>\n",
       "    </tr>\n",
       "    <tr>\n",
       "      <th>egg_y</th>\n",
       "      <td>0.0149</td>\n",
       "      <td>1.0000</td>\n",
       "      <td>ssr_chi2test</td>\n",
       "    </tr>\n",
       "    <tr>\n",
       "      <th>chic_y</th>\n",
       "      <td>1.0000</td>\n",
       "      <td>0.0006</td>\n",
       "      <td>lrtest</td>\n",
       "    </tr>\n",
       "    <tr>\n",
       "      <th>egg_y</th>\n",
       "      <td>0.0454</td>\n",
       "      <td>1.0000</td>\n",
       "      <td>lrtest</td>\n",
       "    </tr>\n",
       "    <tr>\n",
       "      <th>chic_y</th>\n",
       "      <td>0.0928</td>\n",
       "      <td>0.0008</td>\n",
       "      <td>params_ftest</td>\n",
       "    </tr>\n",
       "    <tr>\n",
       "      <th>egg_y</th>\n",
       "      <td>0.2302</td>\n",
       "      <td>0.0008</td>\n",
       "      <td>params_ftest</td>\n",
       "    </tr>\n",
       "  </tbody>\n",
       "</table>\n",
       "</div>"
      ],
      "text/plain": [
       "        chic_x   egg_x          test\n",
       "chic_y  1.0000  0.0008     ssr_ftest\n",
       "egg_y   0.2302  1.0000     ssr_ftest\n",
       "chic_y  1.0000  0.0003  ssr_chi2test\n",
       "egg_y   0.0149  1.0000  ssr_chi2test\n",
       "chic_y  1.0000  0.0006        lrtest\n",
       "egg_y   0.0454  1.0000        lrtest\n",
       "chic_y  0.0928  0.0008  params_ftest\n",
       "egg_y   0.2302  0.0008  params_ftest"
      ]
     },
     "execution_count": 101,
     "metadata": {},
     "output_type": "execute_result"
    }
   ],
   "source": [
    "frames = [ssr_ftest, ssr_chi2test, lrtest, params_ftest]\n",
    "all_test = pd.concat(frames)\n",
    "all_test"
   ]
  },
  {
   "cell_type": "markdown",
   "metadata": {},
   "source": [
    "With this we can conclude that eggs Granger cause chickens!"
   ]
  }
 ],
 "metadata": {
  "hide_input": false,
  "kernelspec": {
   "display_name": "Python 3",
   "language": "python",
   "name": "python3"
  },
  "language_info": {
   "codemirror_mode": {
    "name": "ipython",
    "version": 3
   },
   "file_extension": ".py",
   "mimetype": "text/x-python",
   "name": "python",
   "nbconvert_exporter": "python",
   "pygments_lexer": "ipython3",
   "version": "3.7.3"
  }
 },
 "nbformat": 4,
 "nbformat_minor": 4
}
